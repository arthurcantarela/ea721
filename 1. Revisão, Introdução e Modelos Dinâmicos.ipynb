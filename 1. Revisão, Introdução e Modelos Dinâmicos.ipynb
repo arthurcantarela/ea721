{
 "cells": [
  {
   "cell_type": "markdown",
   "metadata": {},
   "source": [
    "# Lista de Exercícios 01\n",
    "## Revisão, Introdução e Modelos Dinâmicos\n",
    "\n",
    "**Exercício 1.**\n",
    "\n",
    "$$\n",
    "f_1(t) = e^{-2t}\\sin(t) \\left\\lvert{\\dfrac{1}{2}}\\right\\rvert\n",
    "$$$$\n",
    "\\hat{f}_1(s) = \\int_{0}^{\\infty} e^{-2t}\\sin(t)e^{-st}dt\n",
    "$$$$\n",
    "\\hat{f}_1(s) = -\n",
    "$$"
   ]
  },
  {
   "cell_type": "code",
   "execution_count": null,
   "metadata": {
    "collapsed": true
   },
   "outputs": [],
   "source": []
  }
 ],
 "metadata": {
  "kernelspec": {
   "display_name": "Julia 0.4.5",
   "language": "julia",
   "name": "julia-0.4"
  },
  "language_info": {
   "file_extension": ".jl",
   "mimetype": "application/julia",
   "name": "julia",
   "version": "0.4.5"
  }
 },
 "nbformat": 4,
 "nbformat_minor": 2
}
