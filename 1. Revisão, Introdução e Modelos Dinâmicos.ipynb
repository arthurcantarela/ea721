{
 "cells": [
  {
   "cell_type": "markdown",
   "metadata": {},
   "source": [
    "# Lista de Exercícios 01 (RESOLUÇÃO)\n",
    "## Revisão, Introdução e Modelos Dinâmicos\n",
    "\n",
    "### Exercício 1\n",
    "\n",
    "**(a)**\n",
    "\n",
    "$$\n",
    "f_1(t)=e^{-2t}\\sin(t)\n",
    "$$$$\n",
    "f_1(t)=e^{-2t}\\left(\\dfrac{e^{jt}-e^{-jt}}{2j}\\right)\n",
    "$$$$\n",
    "\\hat{f}_1(s)=\\dfrac{1}{2j}\\left(\\int_0^\\infty e^{-(s+2-j)t}dt-\\int_0^\\infty e^{-(s+2+j)t} dt\\right)\n",
    "$$$$\n",
    "\\hat{f}_1(s)=\\dfrac{1}{2j}\\left[\\dfrac{e^{-(s+2+j)t}}{s+2+j}-\\dfrac{e^{-(s+2-j)t}}{s+2-j}\\right]_{t=0}^\\infty\n",
    "$$$$\n",
    "\\hat{f}_1(s)=-\\left[\\dfrac{e^{-(s+2)t}}{(s+2)^2+1}\\left(j\\dfrac{e^{jt}+e^{-jt}}{2j}-(s+2)\\dfrac{e^{jt}-e^{-jt}}{2j}\\right)\\right]_{t=0}^\\infty\n",
    "$$$$\n",
    "\\hat{f}_1(s)=\\dfrac{1}{(s+2)^2+1},\\> s > -2\n",
    "$$\n",
    "\n",
    "**(b)**\n",
    "\n",
    "$$\n",
    "f_2(t)=\\cosh(3t)\n",
    "$$$$\n",
    "f_2(t)=\\dfrac{e^{3t}+e^{-3t}}{2}\n",
    "$$$$\n",
    "\\hat{f}_2(s)=\\dfrac{1}{2}\\left(\\int_0^\\infty e^{-(s+3)t}dt+\\int_0^\\infty e^{-(s-3)t}dt\\right)\n",
    "$$$$\n",
    "\\hat{f}_2(s)=-\\dfrac{1}{2}\\left[\\dfrac{e^{-(s+3)t}}{s+3}+\\dfrac{e^{-(s-3)t}}{s-3}\\right]_{t=0}^\\infty\n",
    "$$$$\n",
    "\\hat{f}_2(s)=-\\dfrac{1}{2}\\left[s\\dfrac{e^{-(s+3)t}+e^{-(s-3)t}}{s^2-3^2}-3\\dfrac{e^{-(s+3)t}-e^{-(s-3)t}}{s^2-3^2}\\right]_{t=0}^\\infty\n",
    "$$$$\n",
    "\\hat{f}_2(s)=\\dfrac{s}{s^2-3^2},\\> s>3\n",
    "$$\n",
    "\n",
    "**(c)**\n",
    "\n",
    "$$\n",
    "f_3(t)=e^t+e^{-t}\\cos(t)\n",
    "$$$$\n",
    "f_3(t)=e^t+e^{-t}\\left(\\dfrac{e^{jt}+e^{-jt}}{2}\\right)\n",
    "$$$$\n",
    "\\hat{f}_3(s)=\\int_0^\\infty e^{-(s-1)t}dt+\\dfrac{1}{2}\\left(\\int_0^\\infty e^{-(k-j)t}dt+\\int_0^\\infty e^{-(k+j)t}dt\\right)\n",
    "$$$$\n",
    "\\hat{f}_3(s)=\\dfrac{1}{s-1}-\\dfrac{1}{2}\\left[\\dfrac{e^{-(s+1-j)t}}{s+1-j}+\\dfrac{e^{-(s+1+j)t}}{s+1+j}\\right]_{t=0}^\\infty\n",
    "$$$$\n",
    "\\hat{f}_3(s)=\\dfrac{1}{s-1}-\\left[\\dfrac{e^{-(s+1)t}}{(s+1)^2+1}\\left((s+1)\\dfrac{e^{jt}+e^{-jt}}{2}+j\\dfrac{e^{jt}-e^{-jt}}{2}\\right)\\right]_{t=0}^\\infty\n",
    "$$$$\n",
    "\\hat{f}_3(s)=\\dfrac{1}{s-1}+\\dfrac{s+1}{(s+1)^2+1},\\> s>1\n",
    "$$\n",
    "\n",
    "**(d)**\n",
    "\n",
    "$$\n",
    "f_4(t)=\\dfrac{1}{k!}t^k,\\> k\\in \\mathbb{N}\n",
    "$$$$\n",
    "\\hat{f}_4(s)=\\dfrac{1}{k!}\\int_0^\\infty t^ke^{-st}dt\n",
    "$$$$\n",
    "\\hat{f}_4(s)=\\dfrac{1}{k!}\\left(\\left[\\dfrac{t^ke^{-st}}{-s}\\right]_{t=0}^\\infty+\\dfrac{k}{s}\\int_0^\\infty t^{k-1}e^{-st}dt\\right)\n",
    "$$$$\n",
    "\\hat{f}_4(s)=\\dfrac{1}{k!}\\left(\\dfrac{k}{s}\\left(\\dfrac{k-1}{s}\\int_0^\\infty t^{k-2}e^{-st}dt\\right)\\right)\n",
    "$$$$\n",
    "\\hat{f}_4(s)=\\dfrac{1}{k!}\\dfrac{k!}{s^k}\\int_0^\\infty e^{-st}dt\n",
    "$$$$\n",
    "\\hat{f}_4(s)=\\dfrac{1}{s^{k+1}},\\> s>0\n",
    "$$\n",
    "\n",
    "### Exercício 2\n",
    "\n",
    "**(a)**\n",
    "\n",
    "$$\n",
    "\\ddot{y}(t)+4\\dot{y}(t)+4y(t)=\\dot{w}(t)+w(t)\n",
    "$$"
   ]
  },
  {
   "cell_type": "code",
   "execution_count": 71,
   "metadata": {},
   "outputs": [
    {
     "data": {
      "image/png": "[encoded data removed]",
      "text/plain": [
       "PyPlot.Figure(PyObject <matplotlib.figure.Figure object at 0x7f6b5b3f5290>)"
      ]
     },
     "metadata": {},
     "output_type": "display_data"
    },
    {
     "data": {
      "text/plain": [
       "1-element Array{Any,1}:\n",
       " PyObject <matplotlib.lines.Line2D object at 0x7f6b5b1f8c90>"
      ]
     },
     "execution_count": 71,
     "metadata": {},
     "output_type": "execute_result"
    }
   ],
   "source": [
    "using PyPlot\n",
    "\n",
    "u(t) = 1./2. + 1./2.*(t./abs(t))\n",
    "\n",
    "y(t, tau) = 1.-exp(-t)-u(t-tau).*(1.-exp(tau-t))\n",
    "\n",
    "t = linspace(0,10,100)\n",
    "tau = 5\n",
    "\n",
    "plot(t, y(t,tau))"
   ]
  },
  {
   "cell_type": "code",
   "execution_count": null,
   "metadata": {
    "collapsed": true
   },
   "outputs": [],
   "source": []
  }
 ],
 "metadata": {
  "kernelspec": {
   "display_name": "Julia 0.4.5",
   "language": "julia",
   "name": "julia-0.4"
  },
  "language_info": {
   "file_extension": ".jl",
   "mimetype": "application/julia",
   "name": "julia",
   "version": "0.4.5"
  }
 },
 "nbformat": 4,
 "nbformat_minor": 2
}
